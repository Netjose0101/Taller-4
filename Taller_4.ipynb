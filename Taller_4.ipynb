{
  "nbformat": 4,
  "nbformat_minor": 0,
  "metadata": {
    "colab": {
      "provenance": [],
      "authorship_tag": "ABX9TyPq8MZK9+fWh5kdjIJDDGK2",
      "include_colab_link": true
    },
    "kernelspec": {
      "name": "python3",
      "display_name": "Python 3"
    },
    "language_info": {
      "name": "python"
    }
  },
  "cells": [
    {
      "cell_type": "markdown",
      "metadata": {
        "id": "view-in-github",
        "colab_type": "text"
      },
      "source": [
        "<a href=\"https://colab.research.google.com/github/Netjose0101/Taller-4/blob/main/Taller_4.ipynb\" target=\"_parent\"><img src=\"https://colab.research.google.com/assets/colab-badge.svg\" alt=\"Open In Colab\"/></a>"
      ]
    },
    {
      "cell_type": "code",
      "execution_count": null,
      "metadata": {
        "id": "IN8Khz9-QydM"
      },
      "outputs": [],
      "source": []
    },
    {
      "cell_type": "markdown",
      "source": [
        "Algoritmo para Juego De Cara O Sello\n",
        "1. iniciar\n",
        "2. generar de manera aleatoria una selección entre cara o sello\n",
        "3. pedir al jugador una selección donde elija cara o sello\n",
        "4. si la elección es correcta:\n",
        "   -aumentar 1 en el puntaje\n",
        "   -mostrar el puntaje actual\n",
        "   si la elección es incorrecta:\n",
        "   -reducir 1 en el puntaje\n",
        "   -mostar cuantos intentos quedan\n",
        "5.  si el jugador se queda sin intentos mostrar el puntaje total\n",
        "6. preguntar al jugador si quiere jugar de nuevo:\n",
        "   -si el jugador elige si reiniciar los puntos y los intentos y volver a empezar el juego.\n",
        "7. si el jugador elige no, terminar el programa\n"
      ],
      "metadata": {
        "id": "XtqAWIqTQzF_"
      }
    },
    {
      "cell_type": "markdown",
      "source": [
        "Pseudocodigo para juegon de cara o sello\n",
        "1. inicio del juego\n",
        "   -iniciar puntaje = 0\n",
        "   -iniciar intentos = 3\n",
        "2.   Mientras intentos > 0 hacer:\n",
        "     Generar aleatoriamente\n",
        "  \"cara\" o \"sello\"\n",
        "3.  pedir al jugador que adivine entre \"cara\" o \"sello\"\n",
        "   si la adivinanza es correcta aumentar entonces:\n",
        "   -aumentar 1 en el puntaje\n",
        "   -mostrar puntaje\n",
        "   si no es correcta:\n",
        "   -reducir 1 en el puntaje\n",
        "   mostar cuantos intentos quedan\n",
        "4.  Fin del juego\n",
        "5.  mostar puntaje total al jugador\n",
        "6.  preguntar al jugador si quiere seguir jugando (s/n)\n",
        "   si la respuesta es \"s\" entonces:\n",
        "   -reiniciar puntaje e intentos  \n",
        "   -volver a empezar el juego\n",
        "   Si no:\n",
        "   -terminar el programa    \n"
      ],
      "metadata": {
        "id": "yEcg8tvwZQCQ"
      }
    },
    {
      "cell_type": "code",
      "source": [
        "import random\n",
        "\n",
        "def jugar_cara_o_sello():\n",
        "    # Inicializar puntaje e intentos\n",
        "    puntaje = 0\n",
        "    intentos = 3\n",
        "\n",
        "    # Mientras haya intentos\n",
        "    while intentos > 0:\n",
        "        eleccion = random.choice([\"cara\", \"sello\"])  # Generar aleatoriamente cara o sello\n",
        "        adivinanza = input(\"Adivina: 'cara' o 'sello': \").lower()\n",
        "\n",
        "        # Si la adivinanza es correcta\n",
        "        if adivinanza == eleccion:\n",
        "            puntaje += 1\n",
        "            print(f\"¡Correcto! Tienes {puntaje} punto(s).\")\n",
        "        else:\n",
        "            intentos -= 1\n",
        "            print(f\"Incorrecto. Te quedan {intentos} intento(s).\")\n",
        "\n",
        "    # Mostrar el puntaje total al final del juego\n",
        "    print(f\"Te has quedado sin intentos. Has conseguido {puntaje} punto(s).\")\n",
        "\n",
        "    # Preguntar si el jugador quiere seguir jugando\n",
        "    respuesta = input(\"¿Quieres jugar de nuevo? (s/n): \").lower()\n",
        "\n",
        "    if respuesta == \"s\":\n",
        "        jugar_cara_o_sello()  # Reiniciar el juego\n",
        "    else:\n",
        "        print(\"Gracias por jugar. ¡Hasta la próxima!\")\n",
        "\n",
        "# Iniciar el juego\n",
        "jugar_cara_o_sello()"
      ],
      "metadata": {
        "colab": {
          "base_uri": "https://localhost:8080/"
        },
        "id": "Cd7Fdnswf5Hf",
        "outputId": "c413c2be-4db1-4578-c28a-29d698ca6e3c"
      },
      "execution_count": null,
      "outputs": [
        {
          "output_type": "stream",
          "name": "stdout",
          "text": [
            "Adivina: 'cara' o 'sello': sello\n",
            "¡Correcto! Tienes 1 punto(s).\n"
          ]
        }
      ]
    }
  ]
}